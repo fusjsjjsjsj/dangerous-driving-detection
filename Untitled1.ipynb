{
 "cells": [
  {
   "cell_type": "code",
   "execution_count": 2,
   "id": "8bd1ca30-6e1f-4076-b0d8-fc0004e1c2f1",
   "metadata": {},
   "outputs": [],
   "source": [
    "import os\n",
    "import torch\n",
    "import torch.nn as nn\n",
    "import torch.optim as optim\n",
    "from torch.utils.data import Dataset, DataLoader\n",
    "from torchvision import models, transforms, datasets\n",
    "from tqdm import tqdm\n",
    "from torchsummary import summary\n",
    "from PIL import Image\n",
    "import torch.nn.functional as F\n",
    "\n",
    "# 设备配置\n",
    "device = torch.device(\"cuda\" if torch.cuda.is_available() else \"cpu\")"
   ]
  },
  {
   "cell_type": "code",
   "execution_count": 3,
   "id": "f7277000-50d6-4fd7-9fd2-f66dea340f68",
   "metadata": {},
   "outputs": [],
   "source": [
    "from torchvision.models.efficientnet import EfficientNet_V2_S_Weights\n",
    "from torchvision.models.mobilenetv3 import MobileNet_V3_Small_Weights"
   ]
  },
  {
   "cell_type": "code",
   "execution_count": 4,
   "id": "db91babf-9ee4-44d0-a752-c9a36fea7876",
   "metadata": {},
   "outputs": [
    {
     "name": "stdout",
     "output_type": "stream",
     "text": [
      "CUDA 可用: True\n",
      "PyTorch 版本: 2.6.0+cu118\n"
     ]
    }
   ],
   "source": [
    "print(\"CUDA 可用:\", torch.cuda.is_available())\n",
    "print(\"PyTorch 版本:\", torch.__version__)"
   ]
  },
  {
   "cell_type": "code",
   "execution_count": 12,
   "id": "6107358e-4e1b-4b7f-93cf-ff0794737fe5",
   "metadata": {},
   "outputs": [],
   "source": [
    "class CustomDataset(Dataset):\n",
    "    def __init__(self, root_dir, transform=None):\n",
    "        self.root_dir = root_dir\n",
    "        self.transform = transform\n",
    "        self.samples = []\n",
    "\n",
    "        # 读取类别文件\n",
    "        classes_path = os.path.join(root_dir, '_classes.txt')\n",
    "        with open(classes_path, 'r') as f:\n",
    "            self.classes = [line.strip() for line in f.readlines()]\n",
    "        self.class_to_idx = {cls: idx for idx, cls in enumerate(self.classes)}\n",
    "\n",
    "        # 读取标注文件\n",
    "        annotations_path = os.path.join(root_dir, '_annotations.txt')\n",
    "        with open(annotations_path, 'r') as f:\n",
    "            for line in f.readlines():\n",
    "                line = line.strip()\n",
    "                if not line:\n",
    "                    continue\n",
    "                parts = line.split()\n",
    "                if len(parts) < 2:\n",
    "                    continue\n",
    "                image_name = parts[0]\n",
    "                data_part = parts[1].split(',')\n",
    "                if len(data_part) < 5:\n",
    "                    continue\n",
    "                try:\n",
    "                    target = int(data_part[-1])\n",
    "                    self.samples.append((image_name, target))\n",
    "                except Exception as e:\n",
    "                    print(f\"Skipped invalid sample: {line} - Error: {e}\")\n",
    "\n",
    "    def __len__(self):\n",
    "        return len(self.samples)\n",
    "\n",
    "    def __getitem__(self, idx):\n",
    "        image_name, target = self.samples[idx]\n",
    "        image_path = os.path.join(self.root_dir, image_name)\n",
    "\n",
    "        try:\n",
    "            image = Image.open(image_path).convert('RGB')\n",
    "        except Exception as e:\n",
    "            print(f\"Error loading image {image_path}: {e}\")\n",
    "            return self[random.randint(0, len(self) - 1)] \n",
    "\n",
    "        if self.transform:\n",
    "            image = self.transform(image)\n",
    "\n",
    "        return image, target"
   ]
  },
  {
   "cell_type": "code",
   "execution_count": 13,
   "id": "3cc259b1-57c2-4f5d-bd1b-1efd5872c1b0",
   "metadata": {},
   "outputs": [],
   "source": [
    "# 数据预处理\n",
    "transform = transforms.Compose([\n",
    "    transforms.Resize((224, 224)),\n",
    "    transforms.ToTensor(),\n",
    "    transforms.Normalize(mean=[0.485, 0.456, 0.406], std=[0.229, 0.224, 0.225])\n",
    "])\n",
    "\n",
    "# 加载数据集\n",
    "train_dataset = CustomDataset(\n",
    "    root_dir=r'C:\\Users\\lenovo\\Desktop\\archive\\train',\n",
    "    transform=transform\n",
    ")\n",
    "test_dataset = CustomDataset(\n",
    "    root_dir=r'C:\\Users\\lenovo\\Desktop\\archive\\test',\n",
    "    transform=transform\n",
    ")\n"
   ]
  },
  {
   "cell_type": "code",
   "execution_count": 14,
   "id": "005c2573-a5ee-4aa2-8c5e-ef91207d10bf",
   "metadata": {},
   "outputs": [
    {
     "name": "stdout",
     "output_type": "stream",
     "text": [
      "Train dataset length: 11948\n",
      "Sample 0: Image shape=torch.Size([3, 224, 224]), Label=3\n",
      "Sample 1: Image shape=torch.Size([3, 224, 224]), Label=3\n",
      "Sample 2: Image shape=torch.Size([3, 224, 224]), Label=2\n",
      "Sample 3: Image shape=torch.Size([3, 224, 224]), Label=0\n",
      "Sample 4: Image shape=torch.Size([3, 224, 224]), Label=3\n"
     ]
    }
   ],
   "source": [
    "print(\"Train dataset length:\", len(train_dataset))\n",
    "\n",
    "# 检查前几个样本\n",
    "for i in range(5):\n",
    "    img, label = train_dataset[i]\n",
    "    print(f\"Sample {i}: Image shape={img.shape}, Label={label}\")\n"
   ]
  },
  {
   "cell_type": "code",
   "execution_count": 16,
   "id": "6f973178-44e0-425a-8728-71f19433cdcf",
   "metadata": {},
   "outputs": [
    {
     "name": "stderr",
     "output_type": "stream",
     "text": [
      "Epoch 1/6: 100%|█████████████████████████████████████████████████████████████████████| 747/747 [01:48<00:00,  6.91it/s]\n"
     ]
    },
    {
     "name": "stdout",
     "output_type": "stream",
     "text": [
      "Epoch 1 - Loss: 0.1728 | Val Acc: 92.59%\n"
     ]
    },
    {
     "name": "stderr",
     "output_type": "stream",
     "text": [
      "Epoch 2/6: 100%|█████████████████████████████████████████████████████████████████████| 747/747 [02:04<00:00,  6.01it/s]\n"
     ]
    },
    {
     "name": "stdout",
     "output_type": "stream",
     "text": [
      "Epoch 2 - Loss: 0.0943 | Val Acc: 95.13%\n"
     ]
    },
    {
     "name": "stderr",
     "output_type": "stream",
     "text": [
      "Epoch 3/6: 100%|█████████████████████████████████████████████████████████████████████| 747/747 [01:58<00:00,  6.32it/s]\n"
     ]
    },
    {
     "name": "stdout",
     "output_type": "stream",
     "text": [
      "Epoch 3 - Loss: 0.0784 | Val Acc: 94.11%\n"
     ]
    },
    {
     "name": "stderr",
     "output_type": "stream",
     "text": [
      "Epoch 4/6: 100%|█████████████████████████████████████████████████████████████████████| 747/747 [01:56<00:00,  6.43it/s]\n"
     ]
    },
    {
     "name": "stdout",
     "output_type": "stream",
     "text": [
      "Epoch 4 - Loss: 0.0689 | Val Acc: 95.43%\n"
     ]
    },
    {
     "name": "stderr",
     "output_type": "stream",
     "text": [
      "Epoch 5/6: 100%|█████████████████████████████████████████████████████████████████████| 747/747 [01:57<00:00,  6.38it/s]\n"
     ]
    },
    {
     "name": "stdout",
     "output_type": "stream",
     "text": [
      "Epoch 5 - Loss: 0.0625 | Val Acc: 95.94%\n"
     ]
    },
    {
     "name": "stderr",
     "output_type": "stream",
     "text": [
      "Epoch 6/6: 100%|█████████████████████████████████████████████████████████████████████| 747/747 [01:58<00:00,  6.33it/s]\n"
     ]
    },
    {
     "name": "stdout",
     "output_type": "stream",
     "text": [
      "Epoch 6 - Loss: 0.0577 | Val Acc: 95.74%\n",
      "Best Validation Accuracy: 95.94%\n"
     ]
    }
   ],
   "source": [
    "train_loader = DataLoader(train_dataset, batch_size=16, shuffle=True, num_workers=0)\n",
    "test_loader = DataLoader(test_dataset, batch_size=16, shuffle=False, num_workers=0)\n",
    "\n",
    "# 加载预训练教师模型（EfficientNetV2）\n",
    "teacher_model = models.efficientnet_v2_s(weights=EfficientNet_V2_S_Weights.IMAGENET1K_V1)\n",
    "teacher_model.classifier[1] = nn.Linear(teacher_model.classifier[1].in_features, 6)\n",
    "teacher_model = teacher_model.to(device)\n",
    "teacher_model.eval()\n",
    "\n",
    "# 初始化学生模型（MobileNetV3）\n",
    "student_model = models.mobilenet_v3_small(weights=MobileNet_V3_Small_Weights.IMAGENET1K_V1)\n",
    "student_model.classifier[3] = nn.Linear(student_model.classifier[3].in_features, 6)\n",
    "student_model = student_model.to(device)\n",
    "\n",
    "# 损失函数和优化器\n",
    "hard_loss = nn.CrossEntropyLoss()\n",
    "soft_loss = nn.KLDivLoss(reduction=\"batchmean\")\n",
    "optimizer = optim.Adam(student_model.parameters(), lr=1e-4)\n",
    "\n",
    "# 蒸馏参数\n",
    "temp = 7\n",
    "alpha = 0.3\n",
    "\n",
    "# 训练函数\n",
    "def train_kd(epochs):\n",
    "    best_acc = 0.0\n",
    "\n",
    "    for epoch in range(epochs):\n",
    "        # 训练阶段\n",
    "        student_model.train()\n",
    "        train_loss = 0.0\n",
    "\n",
    "        for data, targets in tqdm(train_loader, desc=f\"Epoch {epoch+1}/{epochs}\"):\n",
    "            data = data.to(device)\n",
    "            targets = targets.to(device)\n",
    "\n",
    "            # 教师模型预测\n",
    "            with torch.no_grad():\n",
    "                teacher_preds = teacher_model(data)\n",
    "\n",
    "            # 学生模型预测\n",
    "            student_preds = student_model(data)\n",
    "\n",
    "            # 计算损失\n",
    "            student_loss = hard_loss(student_preds, targets)\n",
    "            distill_loss = soft_loss(\n",
    "                F.log_softmax(student_preds / temp, dim=1),\n",
    "                F.softmax(teacher_preds / temp, dim=1)\n",
    "            )\n",
    "            loss = alpha * student_loss + (1 - alpha) * distill_loss\n",
    "\n",
    "            # 反向传播\n",
    "            optimizer.zero_grad()\n",
    "            loss.backward()\n",
    "            optimizer.step()\n",
    "\n",
    "            train_loss += loss.item() * data.size(0)\n",
    "\n",
    "        # 验证阶段\n",
    "        student_model.eval()\n",
    "        correct = 0\n",
    "        total = 0\n",
    "\n",
    "        with torch.no_grad():\n",
    "            for data, targets in test_loader:\n",
    "                data = data.to(device)\n",
    "                targets = targets.to(device)\n",
    "\n",
    "                outputs = student_model(data)\n",
    "                _, preds = torch.max(outputs, 1)\n",
    "\n",
    "                correct += (preds == targets).sum().item()\n",
    "                total += targets.size(0)\n",
    "\n",
    "        val_acc = correct / total\n",
    "        train_loss = train_loss / len(train_dataset)\n",
    "\n",
    "        print(f\"Epoch {epoch+1} - Loss: {train_loss:.4f} | Val Acc: {val_acc*100:.2f}%\")\n",
    "\n",
    "        # 保存最佳模型\n",
    "        if val_acc > best_acc:\n",
    "            best_acc = val_acc\n",
    "            torch.save(student_model.state_dict(), 'best_student.pth')\n",
    "\n",
    "    print(f\"Best Validation Accuracy: {best_acc*100:.2f}%\")\n",
    "\n",
    "# 开始训练\n",
    "if __name__ == '__main__':\n",
    "    train_kd(epochs=6)"
   ]
  },
  {
   "cell_type": "code",
   "execution_count": 18,
   "id": "d30dbd4c-0671-46d5-8f45-3bc3552c4601",
   "metadata": {},
   "outputs": [
    {
     "name": "stderr",
     "output_type": "stream",
     "text": [
      "Teacher Epoch 1/6: 100%|█████████████████████████████████████████████████████████████| 747/747 [03:33<00:00,  3.49it/s]\n"
     ]
    },
    {
     "name": "stdout",
     "output_type": "stream",
     "text": [
      "Teacher Epoch 1 - Loss: 0.3421 | Val Acc: 95.94%\n"
     ]
    },
    {
     "name": "stderr",
     "output_type": "stream",
     "text": [
      "Teacher Epoch 2/6: 100%|█████████████████████████████████████████████████████████████| 747/747 [04:11<00:00,  2.97it/s]\n"
     ]
    },
    {
     "name": "stdout",
     "output_type": "stream",
     "text": [
      "Teacher Epoch 2 - Loss: 0.1091 | Val Acc: 96.24%\n"
     ]
    },
    {
     "name": "stderr",
     "output_type": "stream",
     "text": [
      "Teacher Epoch 3/6: 100%|█████████████████████████████████████████████████████████████| 747/747 [04:23<00:00,  2.83it/s]\n"
     ]
    },
    {
     "name": "stdout",
     "output_type": "stream",
     "text": [
      "Teacher Epoch 3 - Loss: 0.0744 | Val Acc: 96.95%\n"
     ]
    },
    {
     "name": "stderr",
     "output_type": "stream",
     "text": [
      "Teacher Epoch 4/6: 100%|█████████████████████████████████████████████████████████████| 747/747 [04:29<00:00,  2.77it/s]\n"
     ]
    },
    {
     "name": "stdout",
     "output_type": "stream",
     "text": [
      "Teacher Epoch 4 - Loss: 0.0541 | Val Acc: 96.45%\n"
     ]
    },
    {
     "name": "stderr",
     "output_type": "stream",
     "text": [
      "Teacher Epoch 5/6: 100%|█████████████████████████████████████████████████████████████| 747/747 [04:27<00:00,  2.79it/s]\n"
     ]
    },
    {
     "name": "stdout",
     "output_type": "stream",
     "text": [
      "Teacher Epoch 5 - Loss: 0.0374 | Val Acc: 97.06%\n"
     ]
    },
    {
     "name": "stderr",
     "output_type": "stream",
     "text": [
      "Teacher Epoch 6/6: 100%|█████████████████████████████████████████████████████████████| 747/747 [04:28<00:00,  2.78it/s]\n"
     ]
    },
    {
     "name": "stdout",
     "output_type": "stream",
     "text": [
      "Teacher Epoch 6 - Loss: 0.0348 | Val Acc: 97.77%\n"
     ]
    }
   ],
   "source": [
    "teacher_model = models.efficientnet_v2_s(weights=EfficientNet_V2_S_Weights.IMAGENET1K_V1)\n",
    "teacher_model.classifier[1] = nn.Linear(teacher_model.classifier[1].in_features, 6)\n",
    "teacher_model = teacher_model.to(device)\n",
    "\n",
    "# 损失函数和优化器\n",
    "criterion = nn.CrossEntropyLoss()\n",
    "optimizer = optim.Adam(teacher_model.parameters(), lr=1e-4)\n",
    "\n",
    "# 训练函数\n",
    "def train_teacher(epochs):\n",
    "    best_acc = 0.0\n",
    "    for epoch in range(epochs):\n",
    "        teacher_model.train()\n",
    "        train_loss = 0.0\n",
    "\n",
    "        for data, targets in tqdm(train_loader, desc=f\"Teacher Epoch {epoch+1}/{epochs}\"):\n",
    "            data = data.to(device)\n",
    "            targets = targets.to(device)\n",
    "\n",
    "            preds = teacher_model(data)\n",
    "            loss = criterion(preds, targets)\n",
    "\n",
    "            optimizer.zero_grad()\n",
    "            loss.backward()\n",
    "            optimizer.step()\n",
    "\n",
    "            train_loss += loss.item() * data.size(0)\n",
    "\n",
    "        # 验证阶段\n",
    "        teacher_model.eval()\n",
    "        correct = 0\n",
    "        total = 0\n",
    "        with torch.no_grad():\n",
    "            for data, targets in test_loader:\n",
    "                data = data.to(device)\n",
    "                targets = targets.to(device)\n",
    "                preds = teacher_model(data)\n",
    "                _, predicted = torch.max(preds, 1)\n",
    "                correct += (predicted == targets).sum().item()\n",
    "                total += targets.size(0)\n",
    "        val_acc = correct / total\n",
    "\n",
    "        print(f\"Teacher Epoch {epoch+1} - Loss: {train_loss/len(train_dataset):.4f} | Val Acc: {val_acc*100:.2f}%\")\n",
    "\n",
    "        # 保存最佳模型\n",
    "        if val_acc > best_acc:\n",
    "            best_acc = val_acc\n",
    "            torch.save(teacher_model.state_dict(), 'best_teacher.pth')\n",
    "\n",
    "# 开始训练\n",
    "if __name__ == '__main__':\n",
    "    train_teacher(epochs=6)"
   ]
  },
  {
   "cell_type": "code",
   "execution_count": 20,
   "id": "ab50511d-6fd8-4760-abd8-cfa7fa9e18f4",
   "metadata": {},
   "outputs": [
    {
     "name": "stderr",
     "output_type": "stream",
     "text": [
      "Student Epoch 1/6: 100%|█████████████████████████████████████████████████████████████| 747/747 [01:38<00:00,  7.60it/s]\n"
     ]
    },
    {
     "name": "stdout",
     "output_type": "stream",
     "text": [
      "Student Epoch 1 - Loss: 0.4927 | Val Acc: 91.78%\n"
     ]
    },
    {
     "name": "stderr",
     "output_type": "stream",
     "text": [
      "Student Epoch 2/6: 100%|█████████████████████████████████████████████████████████████| 747/747 [01:39<00:00,  7.54it/s]\n"
     ]
    },
    {
     "name": "stdout",
     "output_type": "stream",
     "text": [
      "Student Epoch 2 - Loss: 0.1882 | Val Acc: 94.01%\n"
     ]
    },
    {
     "name": "stderr",
     "output_type": "stream",
     "text": [
      "Student Epoch 3/6: 100%|█████████████████████████████████████████████████████████████| 747/747 [01:38<00:00,  7.61it/s]\n"
     ]
    },
    {
     "name": "stdout",
     "output_type": "stream",
     "text": [
      "Student Epoch 3 - Loss: 0.1340 | Val Acc: 93.81%\n"
     ]
    },
    {
     "name": "stderr",
     "output_type": "stream",
     "text": [
      "Student Epoch 4/6: 100%|█████████████████████████████████████████████████████████████| 747/747 [01:38<00:00,  7.57it/s]\n"
     ]
    },
    {
     "name": "stdout",
     "output_type": "stream",
     "text": [
      "Student Epoch 4 - Loss: 0.0956 | Val Acc: 92.39%\n"
     ]
    },
    {
     "name": "stderr",
     "output_type": "stream",
     "text": [
      "Student Epoch 5/6: 100%|█████████████████████████████████████████████████████████████| 747/747 [01:37<00:00,  7.67it/s]\n"
     ]
    },
    {
     "name": "stdout",
     "output_type": "stream",
     "text": [
      "Student Epoch 5 - Loss: 0.0753 | Val Acc: 94.72%\n"
     ]
    },
    {
     "name": "stderr",
     "output_type": "stream",
     "text": [
      "Student Epoch 6/6: 100%|█████████████████████████████████████████████████████████████| 747/747 [01:36<00:00,  7.75it/s]\n"
     ]
    },
    {
     "name": "stdout",
     "output_type": "stream",
     "text": [
      "Student Epoch 6 - Loss: 0.0630 | Val Acc: 94.92%\n"
     ]
    }
   ],
   "source": [
    "# 初始化学生模型\n",
    "student_model = models.mobilenet_v3_small(weights=MobileNet_V3_Small_Weights.IMAGENET1K_V1)\n",
    "student_model.classifier[3] = nn.Linear(student_model.classifier[3].in_features, 6)\n",
    "student_model = student_model.to(device)\n",
    "\n",
    "# 损失函数和优化器\n",
    "criterion = nn.CrossEntropyLoss()\n",
    "optimizer = optim.Adam(student_model.parameters(), lr=1e-4)\n",
    "\n",
    "# 训练函数\n",
    "def train_student_from_scratch(epochs):\n",
    "    best_acc = 0.0\n",
    "    for epoch in range(epochs):\n",
    "        student_model.train()\n",
    "        train_loss = 0.0\n",
    "\n",
    "        for data, targets in tqdm(train_loader, desc=f\"Student Epoch {epoch+1}/{epochs}\"):\n",
    "            data = data.to(device)\n",
    "            targets = targets.to(device)\n",
    "\n",
    "            preds = student_model(data)\n",
    "            loss = criterion(preds, targets)\n",
    "\n",
    "            optimizer.zero_grad()\n",
    "            loss.backward()\n",
    "            optimizer.step()\n",
    "\n",
    "            train_loss += loss.item() * data.size(0)\n",
    "\n",
    "        # 验证阶段\n",
    "        student_model.eval()\n",
    "        correct = 0\n",
    "        total = 0\n",
    "        with torch.no_grad():\n",
    "            for data, targets in test_loader:\n",
    "                data = data.to(device)\n",
    "                targets = targets.to(device)\n",
    "                preds = student_model(data)\n",
    "                _, predicted = torch.max(preds, 1)\n",
    "                correct += (predicted == targets).sum().item()\n",
    "                total += targets.size(0)\n",
    "        val_acc = correct / total\n",
    "\n",
    "        print(f\"Student Epoch {epoch+1} - Loss: {train_loss/len(train_dataset):.4f} | Val Acc: {val_acc*100:.2f}%\")\n",
    "\n",
    "        # 保存最佳模型\n",
    "        if val_acc > best_acc:\n",
    "            best_acc = val_acc\n",
    "            torch.save(student_model.state_dict(), 'best_student_scratch.pth')\n",
    "\n",
    "# 开始训练\n",
    "if __name__ == '__main__':\n",
    "    train_student_from_scratch(epochs=6)"
   ]
  },
  {
   "cell_type": "code",
   "execution_count": null,
   "id": "191f3149-0826-43d0-b66a-50f619bceff1",
   "metadata": {},
   "outputs": [],
   "source": []
  }
 ],
 "metadata": {
  "kernelspec": {
   "display_name": "Python (pytorch)",
   "language": "python",
   "name": "pytorch"
  },
  "language_info": {
   "codemirror_mode": {
    "name": "ipython",
    "version": 3
   },
   "file_extension": ".py",
   "mimetype": "text/x-python",
   "name": "python",
   "nbconvert_exporter": "python",
   "pygments_lexer": "ipython3",
   "version": "3.9.21"
  }
 },
 "nbformat": 4,
 "nbformat_minor": 5
}
